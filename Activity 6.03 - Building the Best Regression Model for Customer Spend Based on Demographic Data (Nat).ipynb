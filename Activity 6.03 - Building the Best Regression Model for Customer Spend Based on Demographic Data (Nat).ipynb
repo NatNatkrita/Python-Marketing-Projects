{
 "cells": [
  {
   "cell_type": "code",
   "execution_count": 1,
   "id": "3b7e949d",
   "metadata": {},
   "outputs": [
    {
     "data": {
      "text/html": [
       "<div>\n",
       "<style scoped>\n",
       "    .dataframe tbody tr th:only-of-type {\n",
       "        vertical-align: middle;\n",
       "    }\n",
       "\n",
       "    .dataframe tbody tr th {\n",
       "        vertical-align: top;\n",
       "    }\n",
       "\n",
       "    .dataframe thead th {\n",
       "        text-align: right;\n",
       "    }\n",
       "</style>\n",
       "<table border=\"1\" class=\"dataframe\">\n",
       "  <thead>\n",
       "    <tr style=\"text-align: right;\">\n",
       "      <th></th>\n",
       "      <th>spend</th>\n",
       "      <th>age</th>\n",
       "      <th>income</th>\n",
       "      <th>years_of_education</th>\n",
       "    </tr>\n",
       "  </thead>\n",
       "  <tbody>\n",
       "    <tr>\n",
       "      <th>0</th>\n",
       "      <td>3304.0</td>\n",
       "      <td>36.0</td>\n",
       "      <td>45125.0</td>\n",
       "      <td>12</td>\n",
       "    </tr>\n",
       "    <tr>\n",
       "      <th>1</th>\n",
       "      <td>3709.0</td>\n",
       "      <td>43.0</td>\n",
       "      <td>41695.0</td>\n",
       "      <td>10</td>\n",
       "    </tr>\n",
       "    <tr>\n",
       "      <th>2</th>\n",
       "      <td>3305.0</td>\n",
       "      <td>47.0</td>\n",
       "      <td>39253.0</td>\n",
       "      <td>17</td>\n",
       "    </tr>\n",
       "    <tr>\n",
       "      <th>3</th>\n",
       "      <td>2170.0</td>\n",
       "      <td>33.0</td>\n",
       "      <td>32384.0</td>\n",
       "      <td>13</td>\n",
       "    </tr>\n",
       "    <tr>\n",
       "      <th>4</th>\n",
       "      <td>2113.0</td>\n",
       "      <td>30.0</td>\n",
       "      <td>33182.0</td>\n",
       "      <td>10</td>\n",
       "    </tr>\n",
       "  </tbody>\n",
       "</table>\n",
       "</div>"
      ],
      "text/plain": [
       "    spend   age   income  years_of_education\n",
       "0  3304.0  36.0  45125.0                  12\n",
       "1  3709.0  43.0  41695.0                  10\n",
       "2  3305.0  47.0  39253.0                  17\n",
       "3  2170.0  33.0  32384.0                  13\n",
       "4  2113.0  30.0  33182.0                  10"
      ]
     },
     "execution_count": 1,
     "metadata": {},
     "output_type": "execute_result"
    }
   ],
   "source": [
    "#Import libraries and read file\n",
    "\n",
    "import pandas as pd\n",
    "df = pd.read_csv('spend_age_income_ed.csv')\n",
    "df.head()"
   ]
  },
  {
   "cell_type": "code",
   "execution_count": 3,
   "id": "f8ea6416",
   "metadata": {},
   "outputs": [],
   "source": [
    "#Perform train and test split\n",
    "\n",
    "x_cols = df.columns[1:]\n",
    "X=df[x_cols]\n",
    "y=df['spend']\n",
    "\n",
    "from sklearn.model_selection import train_test_split\n",
    "X_train, X_test, y_train, y_test = train_test_split\\\n",
    "(X,y, random_state = 10)"
   ]
  },
  {
   "cell_type": "code",
   "execution_count": 4,
   "id": "97f4731e",
   "metadata": {},
   "outputs": [
    {
     "data": {
      "text/plain": [
       "LinearRegression()"
      ]
     },
     "execution_count": 4,
     "metadata": {},
     "output_type": "execute_result"
    }
   ],
   "source": [
    "#Fit a linear regression model to the training data\n",
    "\n",
    "from sklearn.linear_model import LinearRegression\n",
    "model = LinearRegression()\n",
    "model.fit(X_train, y_train)"
   ]
  },
  {
   "cell_type": "code",
   "execution_count": 7,
   "id": "79643f7b",
   "metadata": {},
   "outputs": [
    {
     "data": {
      "text/plain": [
       "RandomForestRegressor(max_depth=5, random_state=10)"
      ]
     },
     "execution_count": 7,
     "metadata": {},
     "output_type": "execute_result"
    }
   ],
   "source": [
    "#Fit two regression tree models max_dept=2, 5\n",
    "\n",
    "from sklearn.tree import DecisionTreeRegressor\n",
    "\n",
    "max2_tree_model = DecisionTreeRegressor(max_depth =2)\n",
    "max2_tree_model.fit(X_train, y_train)\n",
    "\n",
    "max5_tree_model = DecisionTreeRegressor(max_depth =5)\n",
    "max5_tree_model.fit(X_train, y_train)"
   ]
  },
  {
   "cell_type": "code",
   "execution_count": 8,
   "id": "3e0b68bc",
   "metadata": {},
   "outputs": [
    {
     "data": {
      "text/plain": [
       "RandomForestRegressor(max_depth=5, random_state=10)"
      ]
     },
     "execution_count": 8,
     "metadata": {},
     "output_type": "execute_result"
    }
   ],
   "source": [
    "#Fit two random forest models max_dept=2, 5, random state=10\n",
    "\n",
    "from sklearn.ensemble import RandomForestRegressor\n",
    "\n",
    "max2_forest_model = RandomForestRegressor\\\n",
    "(max_depth=2, random_state =10)\n",
    "max2_forest_model.fit(X_train, y_train)\n",
    "\n",
    "max5_forest_model = RandomForestRegressor\\\n",
    "(max_depth=5, random_state =10)\n",
    "max5_forest_model.fit(X_train, y_train)"
   ]
  },
  {
   "cell_type": "code",
   "execution_count": 11,
   "id": "5083356d",
   "metadata": {},
   "outputs": [
    {
     "name": "stdout",
     "output_type": "stream",
     "text": [
      "Linear model RMSE348.19771532747865\n",
      "Tree with max depth of 2 RMSE268.51069264082935\n",
      "Tree with max depth of 5 RMSE125.53257106419696\n",
      "Max depth of 2 RMSE:266.45844988320863\n",
      "Max depth of 5 RMSE:115.2014058797442\n"
     ]
    }
   ],
   "source": [
    "#Calculate and print out the RMSE for all five models\n",
    "\n",
    "from sklearn.metrics import mean_squared_error\n",
    "\n",
    "linear_predictions = model.predict(X_test)\n",
    "print('Linear model RMSE'+\\\n",
    "     str(mean_squared_error(linear_predictions, y_test)**0.5))\n",
    "\n",
    "max2_tree_predictions = max2_tree_model.predict(X_test)\n",
    "print('Tree with max depth of 2 RMSE'+\\\n",
    "     str(mean_squared_error(max2_tree_predictions, y_test)**0.5))\n",
    "\n",
    "max5_tree_predictions = max5_tree_model.predict(X_test)\n",
    "print('Tree with max depth of 5 RMSE'+\\\n",
    "     str(mean_squared_error(max5_tree_predictions, y_test)**0.5))\n",
    "\n",
    "\n",
    "max2_forest_predictions = max2_forest_model.predict(X_test)\n",
    "print('Max depth of 2 RMSE:' +\\\n",
    "     str(mean_squared_error(max2_forest_predictions,\\\n",
    "                           y_test)**0.5))\n",
    "\n",
    "max5_forest_predictions = max5_forest_model.predict(X_test)\n",
    "print('Max depth of 5 RMSE:' +\\\n",
    "     str(mean_squared_error(max5_forest_predictions,\\\n",
    "                           y_test)**0.5))"
   ]
  },
  {
   "cell_type": "code",
   "execution_count": null,
   "id": "c9c0a9f1",
   "metadata": {},
   "outputs": [],
   "source": []
  }
 ],
 "metadata": {
  "kernelspec": {
   "display_name": "ds-marketing",
   "language": "python",
   "name": "ds-marketing"
  },
  "language_info": {
   "codemirror_mode": {
    "name": "ipython",
    "version": 3
   },
   "file_extension": ".py",
   "mimetype": "text/x-python",
   "name": "python",
   "nbconvert_exporter": "python",
   "pygments_lexer": "ipython3",
   "version": "3.9.5"
  }
 },
 "nbformat": 4,
 "nbformat_minor": 5
}
